{
 "cells": [
  {
   "cell_type": "markdown",
   "metadata": {},
   "source": [
    "# Personal tweets sentiment analysis\n",
    "\n",
    "## This paper presents user interaction with the developed model\n",
    "\n",
    "interaction interface:\n",
    "1: You will need to enter screenname in the variable \"user_screen_name\"<br>\n",
    "2: Enter the required number of current tweets to view the variable \"tweets_count\"<br>\n",
    "3: Run all jupyter cells<br>"
   ]
  },
  {
   "cell_type": "code",
   "execution_count": null,
   "metadata": {},
   "outputs": [],
   "source": [
    "user_screen_name = \"realDonaldTrump\"\n",
    "tweets_count = 5"
   ]
  },
  {
   "cell_type": "code",
   "execution_count": null,
   "metadata": {},
   "outputs": [],
   "source": [
    "import os\n",
    "import _thread\n",
    "import time\n",
    "os.mkdir('test')\n",
    "LOG_DIR = './test'\n",
    "get_ipython().system_raw('tensorboard --logdir {} --host 0.0.0.0 --port 6006 &'.format(LOG_DIR))\n",
    "get_ipython().system_raw('./ngrok http 6006 &')\n",
    "def print_time( threadName, delay):\n",
    "   count = 0\n",
    "   while count < 2*60*60:\n",
    "      time.sleep(delay)\n",
    "      count += 1\n",
    "try:\n",
    "   _thread.start_new_thread( print_time, (\"Thread-1\", 60, ) )\n",
    "except:\n",
    "   print (\"Error: unable to start thread\")\n",
    "url = ! curl -s http://localhost:4040/api/tunnels | python3 -c \\\n",
    "    \"import sys, json; print(json.load(sys.stdin)['tunnels'][0]['public_url'])\"\n",
    "print(url[0]+\"/#projector\")"
   ]
  },
  {
   "cell_type": "code",
   "execution_count": null,
   "metadata": {},
   "outputs": [],
   "source": [
    "%run main.py\n",
    "main_func(user_screen_name, tweets_count)"
   ]
  }
 ],
 "metadata": {
  "kernelspec": {
   "display_name": "Python 3",
   "language": "python",
   "name": "python3"
  },
  "language_info": {
   "codemirror_mode": {
    "name": "ipython",
    "version": 3
   },
   "file_extension": ".py",
   "mimetype": "text/x-python",
   "name": "python",
   "nbconvert_exporter": "python",
   "pygments_lexer": "ipython3",
   "version": "3.6.7"
  }
 },
 "nbformat": 4,
 "nbformat_minor": 2
}
